{
 "cells": [
  {
   "cell_type": "markdown",
   "id": "bd8f8d6a",
   "metadata": {},
   "source": [
    "## Export grant_datsets \n",
    "\n",
    "\n",
    "release on zenodo , \n",
    "\n",
    "version 1: as csv \n",
    "\n",
    "\n"
   ]
  },
  {
   "cell_type": "code",
   "execution_count": 1,
   "id": "07baae99",
   "metadata": {},
   "outputs": [],
   "source": [
    "import pandas as pd \n",
    "import time "
   ]
  },
  {
   "cell_type": "code",
   "execution_count": 2,
   "id": "e4a3c38c",
   "metadata": {},
   "outputs": [],
   "source": [
    "## Resulting database - we use sqlite for easy replication \n",
    "\n",
    "xPath_DB = '/home/mike/xTemp_data_infrastructure/_staging_funding_dataset/'\n",
    "xDB = xPath_DB  + 'grants_datasets.db'\n",
    "xDBCon = 'sqlite:///' + xDB"
   ]
  },
  {
   "cell_type": "code",
   "execution_count": 3,
   "id": "3ac18d7d",
   "metadata": {},
   "outputs": [],
   "source": [
    "xdata = {'xgrdset_grants_anr':  'anr_grants',\n",
    "             'xgrdset_grants_eufp': 'eufp_grants',\n",
    "             'xgrdset_grants_nih' : 'nih_grants',\n",
    "             'xgrdset_grants_nsf'  : 'nsf_grants',\n",
    "             'xgrdset_grants_ukri': 'ukri_grants', \n",
    "\n",
    "             #organisations \n",
    "             'xgrdset_organisations_anr':  'anr_grants_organisations',\n",
    "             'xgrdset_organisations_eufp': 'eufp_grants_organisations',\n",
    "             'xgrdset_organisations_nih':  'nih_grants_organisations',\n",
    "             'xgrdset_organisations_nsf':  'nsf_grants_organisations',\n",
    "             'xgrdset_organisations_ukri': 'ukri_grants_organisations',\n",
    "              #researchers\n",
    "             'xgrdset_researchers_anr':  'anr_grants_researchers',\n",
    "             'xgrdset_researchers_eufp': 'eufp_grants_researchers',\n",
    "             'xgrdset_researchers_nih':  'nih_grants_researchers',\n",
    "             'xgrdset_researchers_nsf':  'nsf_grants_researchers',\n",
    "             'xgrdset_researchers_ukri': 'ukri_grants_researchers',\n",
    "             #result - publications \n",
    "             'xgrdset_results_publications_eufp': 'eufp_grants_results_publications',\n",
    "             'xgrdset_results_publications_nih' : 'nih_grants_results_publications',\n",
    "             'xgrdset_results_publications_ukri': 'ukri_grants_results_publications'}\n",
    "\n",
    "\n"
   ]
  },
  {
   "cell_type": "code",
   "execution_count": null,
   "id": "1bcc572a",
   "metadata": {},
   "outputs": [
    {
     "name": "stdout",
     "output_type": "stream",
     "text": [
      "saved: xgrdset_grants_anr 27970\n",
      "saved: xgrdset_grants_eufp 124233\n",
      "saved: xgrdset_grants_nih 1313794\n",
      "saved: xgrdset_grants_nsf 201388\n",
      "saved: xgrdset_grants_ukri 143600\n",
      "saved: xgrdset_organisations_anr 87643\n",
      "saved: xgrdset_organisations_eufp 654485\n",
      "saved: xgrdset_organisations_nih 1313794\n",
      "saved: xgrdset_organisations_nsf 201286\n",
      "saved: xgrdset_organisations_ukri 382827\n",
      "saved: xgrdset_researchers_anr 87643\n",
      "saved: xgrdset_researchers_eufp 12459\n",
      "saved: xgrdset_researchers_nih 1479569\n",
      "saved: xgrdset_researchers_nsf 353340\n",
      "saved: xgrdset_researchers_ukri 290500\n",
      "saved: xgrdset_results_publications_eufp 556219\n"
     ]
    }
   ],
   "source": [
    " xsql_tpl = 'select * from {}'#' limit 10'\n",
    "for q1 in list(xdata.keys()):\n",
    "    time.sleep(2)\n",
    "    xsql = xsql_tpl.format(q1)\n",
    "    xfile_name = '/media/mike/SSD4T/__staging/others/grants_datasets/' + xdata.get(q1) + '.tsv' + '.zip'\n",
    "    df = pd.read_sql(xsql, xDBCon)\n",
    "    df.to_csv(path_or_buf = xfile_name,\n",
    "              sep = '\\t',\n",
    "              index = False,\n",
    "              compression='zip',\n",
    "              #chunksize = 10000 \n",
    "             )\n",
    "    print('saved:', q1, len(df))\n",
    "print('OK')"
   ]
  },
  {
   "cell_type": "code",
   "execution_count": null,
   "id": "42f646a3",
   "metadata": {},
   "outputs": [],
   "source": [
    "df = pd.read_sql(xsql, xDBCon)"
   ]
  },
  {
   "cell_type": "code",
   "execution_count": null,
   "id": "48c53aab",
   "metadata": {},
   "outputs": [],
   "source": []
  },
  {
   "cell_type": "code",
   "execution_count": null,
   "id": "39b0a0f1",
   "metadata": {},
   "outputs": [],
   "source": [
    "xStr = '''xgrdset_grants_anr\n",
    "xgrdset_grants_eufp\n",
    "xgrdset_grants_identifiers\n",
    "xgrdset_grants_nih\n",
    "xgrdset_grants_nsf\n",
    "xgrdset_grants_ukri\n",
    "xgrdset_organisations_anr\n",
    "xgrdset_organisations_eufp\n",
    "xgrdset_organisations_nih\n",
    "xgrdset_organisations_nsf\n",
    "xgrdset_organisations_ukri\n",
    "xgrdset_researchers_anr\n",
    "xgrdset_researchers_eufp\n",
    "xgrdset_researchers_nih\n",
    "xgrdset_researchers_nsf\n",
    "xgrdset_researchers_ukri\n",
    "xgrdset_results_publications_eufp\n",
    "xgrdset_results_publications_nih\n",
    "xgrdset_results_publications_ukri'''\n",
    "\n",
    "xStr.split('\\n')"
   ]
  },
  {
   "cell_type": "code",
   "execution_count": null,
   "id": "1bde2679",
   "metadata": {},
   "outputs": [],
   "source": []
  },
  {
   "cell_type": "code",
   "execution_count": null,
   "id": "391e0f47",
   "metadata": {},
   "outputs": [],
   "source": [
    "import os \n",
    "import pandas as pd \n",
    "\n"
   ]
  },
  {
   "cell_type": "code",
   "execution_count": null,
   "id": "f6ef822f",
   "metadata": {},
   "outputs": [],
   "source": [
    "## Resulting database - we use sqlite for easy replication \n",
    "\n",
    "xPath_DB = '/home/mike/xTemp_data_infrastructure/_staging_funding_dataset/'\n",
    "xDB = xPath_DB  + 'grants_datasets.db'\n",
    "xDBCon = 'sqlite:///' + xDB"
   ]
  },
  {
   "cell_type": "code",
   "execution_count": null,
   "id": "a9e584d2",
   "metadata": {},
   "outputs": [],
   "source": []
  },
  {
   "cell_type": "code",
   "execution_count": null,
   "id": "a517c6d5",
   "metadata": {},
   "outputs": [],
   "source": [
    "import warnings\n",
    "warnings.simplefilter(\"ignore\")"
   ]
  },
  {
   "cell_type": "code",
   "execution_count": null,
   "id": "4de8b7d9",
   "metadata": {},
   "outputs": [],
   "source": [
    "\n"
   ]
  },
  {
   "cell_type": "code",
   "execution_count": null,
   "id": "b619605e",
   "metadata": {},
   "outputs": [],
   "source": [
    "xFld = '/media/mike/DATA4T/_data_repository/__others/__funding_data/2000_ANR/'\n",
    "\n",
    "for xfile in [xFld + x for x in os.listdir(xFld)]:\n",
    "    xtab_name = xfile.split('/')[-1:][0].split('.')[0]\n",
    "    #print(xtab_name)\n",
    "    t1 = pd.read_excel(xfile)\n",
    "    xlst_columns = [x.replace('Projet.', '').replace('.', '_').lower()  for x in list(t1.columns)]\n",
    "    t1.columns = xlst_columns \n",
    "    #print(xlst_columns )\n",
    "    #print('---')\n",
    "    \n",
    "    t1.to_sql(name = xtab_name,  con = xDBCon,  if_exists =  'replace', index = False) \n",
    "    \n",
    "    print('saved:', xtab_name, len(t1))\n",
    "    \n",
    "print('OK')\n",
    "    \n",
    "    "
   ]
  },
  {
   "cell_type": "markdown",
   "id": "b75ab0f0",
   "metadata": {},
   "source": [
    "#### Horizon Europe  #### "
   ]
  },
  {
   "cell_type": "code",
   "execution_count": null,
   "id": "770edc7c",
   "metadata": {},
   "outputs": [],
   "source": []
  }
 ],
 "metadata": {
  "kernelspec": {
   "display_name": "Python 3 (ipykernel)",
   "language": "python",
   "name": "python3"
  },
  "language_info": {
   "codemirror_mode": {
    "name": "ipython",
    "version": 3
   },
   "file_extension": ".py",
   "mimetype": "text/x-python",
   "name": "python",
   "nbconvert_exporter": "python",
   "pygments_lexer": "ipython3",
   "version": "3.10.9"
  }
 },
 "nbformat": 4,
 "nbformat_minor": 5
}
