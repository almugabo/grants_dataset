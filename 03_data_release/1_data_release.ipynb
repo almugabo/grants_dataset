{
 "cells": [
  {
   "cell_type": "markdown",
   "id": "bd8f8d6a",
   "metadata": {},
   "source": [
    "## Export grant_datsets \n",
    "\n",
    "\n",
    "release on zenodo , \n",
    "\n",
    "version 1: as csv \n",
    "\n",
    "\n"
   ]
  },
  {
   "cell_type": "code",
   "execution_count": 1,
   "id": "b3149d26",
   "metadata": {},
   "outputs": [],
   "source": [
    "import pandas as pd \n",
    "import time "
   ]
  },
  {
   "cell_type": "code",
   "execution_count": 2,
   "id": "14356322",
   "metadata": {},
   "outputs": [],
   "source": [
    "## Resulting database - we use sqlite for easy replication \n",
    "\n",
    "xPath_DB = '/home/mike/xTemp_data_infrastructure/_staging_funding_dataset/'\n",
    "xDB = xPath_DB  + 'grants_datasets.db'\n",
    "xDBCon = 'sqlite:///' + xDB"
   ]
  },
  {
   "cell_type": "code",
   "execution_count": 6,
   "id": "0ff4162f",
   "metadata": {},
   "outputs": [
    {
     "data": {
      "text/plain": [
       "['xgrdset_results_publications_eufp',\n",
       " 'xgrdset_results_publications_nih',\n",
       " 'xgrdset_results_publications_ukri']"
      ]
     },
     "execution_count": 6,
     "metadata": {},
     "output_type": "execute_result"
    }
   ],
   "source": [
    "xdata = {'xgrdset_grants_anr':  'anr_grants',\n",
    "             'xgrdset_grants_eufp': 'eufp_grants',\n",
    "             'xgrdset_grants_nih' : 'nih_grants',\n",
    "             'xgrdset_grants_nsf'  : 'nsf_grants',\n",
    "             'xgrdset_grants_ukri': 'ukri_grants', \n",
    "\n",
    "             #organisations \n",
    "             'xgrdset_organisations_anr':  'anr_grants_organisations',\n",
    "             'xgrdset_organisations_eufp': 'eufp_grants_organisations',\n",
    "             'xgrdset_organisations_nih':  'nih_grants_organisations',\n",
    "             'xgrdset_organisations_nsf':  'nsf_grants_organisations',\n",
    "             'xgrdset_organisations_ukri': 'ukri_grants_organisations',\n",
    "              #researchers\n",
    "             'xgrdset_researchers_anr':  'anr_grants_researchers',\n",
    "             'xgrdset_researchers_eufp': 'eufp_grants_researchers',\n",
    "             'xgrdset_researchers_nih':  'nih_grants_researchers',\n",
    "             'xgrdset_researchers_nsf':  'nsf_grants_researchers',\n",
    "             'xgrdset_researchers_ukri': 'ukri_grants_researchers',\n",
    "             #result - publications \n",
    "             'xgrdset_results_publications_eufp': 'eufp_grants_results_publications',\n",
    "             'xgrdset_results_publications_nih' : 'nih_grants_results_publications',\n",
    "             'xgrdset_results_publications_ukri': 'ukri_grants_results_publications'}\n",
    "\n",
    "list(xdata.keys())[-3:]\n"
   ]
  },
  {
   "cell_type": "code",
   "execution_count": 7,
   "id": "69a44edf",
   "metadata": {},
   "outputs": [
    {
     "name": "stdout",
     "output_type": "stream",
     "text": [
      "saved: xgrdset_results_publications_eufp 556219\n",
      "saved: xgrdset_results_publications_nih 166100871\n",
      "saved: xgrdset_results_publications_ukri 848336\n",
      "OK\n"
     ]
    }
   ],
   "source": [
    " xsql_tpl = 'select * from {}'#' limit 10'\n",
    "for q1 in list(xdata.keys()):\n",
    "    time.sleep(2)\n",
    "    xsql = xsql_tpl.format(q1)\n",
    "    xfile_name = '/media/mike/SSD4T/__staging/others/grants_datasets/' + xdata.get(q1) + '.tsv' + '.zip'\n",
    "    df = pd.read_sql(xsql, xDBCon)\n",
    "    df.to_csv(path_or_buf = xfile_name,\n",
    "              sep = '\\t',\n",
    "              index = False,\n",
    "              compression='zip',\n",
    "              chunksize = 10000 \n",
    "             )\n",
    "    print('saved:', q1, len(df))\n",
    "print('OK')"
   ]
  },
  {
   "cell_type": "code",
   "execution_count": null,
   "id": "079cabc5",
   "metadata": {},
   "outputs": [],
   "source": []
  },
  {
   "cell_type": "code",
   "execution_count": null,
   "id": "e805120b",
   "metadata": {},
   "outputs": [],
   "source": []
  },
  {
   "cell_type": "code",
   "execution_count": null,
   "id": "ea541874",
   "metadata": {},
   "outputs": [],
   "source": []
  },
  {
   "cell_type": "code",
   "execution_count": null,
   "id": "770edc7c",
   "metadata": {},
   "outputs": [],
   "source": []
  }
 ],
 "metadata": {
  "kernelspec": {
   "display_name": "Python 3 (ipykernel)",
   "language": "python",
   "name": "python3"
  },
  "language_info": {
   "codemirror_mode": {
    "name": "ipython",
    "version": 3
   },
   "file_extension": ".py",
   "mimetype": "text/x-python",
   "name": "python",
   "nbconvert_exporter": "python",
   "pygments_lexer": "ipython3",
   "version": "3.10.9"
  }
 },
 "nbformat": 4,
 "nbformat_minor": 5
}
