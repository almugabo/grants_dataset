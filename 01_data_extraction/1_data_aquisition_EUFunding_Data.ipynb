{
 "cells": [
  {
   "cell_type": "markdown",
   "id": "bd8f8d6a",
   "metadata": {},
   "source": [
    "## EU Funding Data "
   ]
  },
  {
   "cell_type": "markdown",
   "id": "c6d38e75",
   "metadata": {},
   "source": [
    "## STEP 1 : download the datasets "
   ]
  },
  {
   "cell_type": "markdown",
   "id": "7fca2058",
   "metadata": {},
   "source": [
    "\n",
    "#### project data #### \n",
    "\n",
    "wget https://cordis.europa.eu/data/FP1/cordis-fp1projects.xlsx\n",
    "\n",
    "wget https://cordis.europa.eu/data/FP1/cordis-fp1organizations.xlsx\n",
    "\n",
    "wget https://cordis.europa.eu/data/FP2/cordis-fp2projects.xlsx\n",
    "\n",
    "wget https://cordis.europa.eu/data/FP2/cordis-fp2organizations.xlsx\n",
    "\n",
    "wget https://cordis.europa.eu/data/FP3/cordis-fp3projects.xlsx\n",
    "\n",
    "wget https://cordis.europa.eu/data/FP3/cordis-fp3organizations.xlsx\n",
    "\n",
    "wget https://cordis.europa.eu/data/FP4/cordis-fp4projects.xlsx\n",
    "\n",
    "wget https://cordis.europa.eu/data/FP4/cordis-fp4organizations.xlsx\n",
    "\n",
    "wget https://cordis.europa.eu/data/FP5/cordis-fp5projects.xlsx\n",
    "\n",
    "wget https://cordis.europa.eu/data/FP5/cordis-fp5organizations.xlsx\n",
    "\n",
    "wget https://cordis.europa.eu/data/FP6/cordis-fp6projects.xlsx\n",
    "\n",
    "wget https://cordis.europa.eu/data/FP6/cordis-fp6organizations.xlsx\n",
    "\n",
    "wget https://cordis.europa.eu/data/cordis-fp7projects-xlsx.zip\n",
    "\n",
    "wget https://cordis.europa.eu/data/cordis-h2020projects-xlsx.zip\n",
    "\n",
    "wget https://cordis.europa.eu/data/cordis-HORIZONprojects-xlsx.zip\n",
    "\n",
    "\n",
    "#### programmes####\n",
    "FP6 and FP7 as csv\n",
    "\n",
    "wget https://cordis.europa.eu/data/reference/cordisref-FP6programmes.csv\n",
    "\n",
    "wget https://cordis.europa.eu/data/reference/cordisref-FP7programmes.csv\n",
    "\n",
    "wget https://cordis.europa.eu/data/reference/cordisref-H2020programmes-xlsx.zip\n",
    "\n",
    "wget https://cordis.europa.eu/data/reference/cordisref-HORIZONprogrammes-xlsx.zip\n",
    "\n",
    "\n",
    "#### PI (ERC ONLY)### \n",
    "\n",
    "N.B:\n",
    "\n",
    "FP7 no longer provided as stand-alone file there : parse the projects files in XML\n",
    "\n",
    "wget https://cordis.europa.eu/data/cordis-fp7projects-xml.zip\n",
    "\n",
    "wget https://cordis.europa.eu/data/cordis-h2020-erc-pi.xlsx\n",
    "\n",
    "HE :\n",
    "\n",
    "ERC PI file not yet provided\n",
    "\n",
    "\n",
    "#### get other reference data#### \n",
    "\n",
    "wget https://cordis.europa.eu/data/reference/cordisref-countries.csv\n"
   ]
  },
  {
   "cell_type": "markdown",
   "id": "77311f85",
   "metadata": {},
   "source": [
    "### STEP 2 : save into a database "
   ]
  },
  {
   "cell_type": "code",
   "execution_count": 7,
   "id": "391e0f47",
   "metadata": {},
   "outputs": [],
   "source": [
    "import os \n",
    "import inflection as infl  ## to deal with fields names which are camel case \n",
    "import pandas as pd \n",
    "\n",
    "import zipfile\n",
    "import xmltodict"
   ]
  },
  {
   "cell_type": "code",
   "execution_count": 15,
   "id": "a517c6d5",
   "metadata": {},
   "outputs": [],
   "source": [
    "import warnings\n",
    "warnings.simplefilter(\"ignore\")"
   ]
  },
  {
   "cell_type": "code",
   "execution_count": 2,
   "id": "4de8b7d9",
   "metadata": {},
   "outputs": [],
   "source": [
    "## Resulting database - we use sqlite for easy replication \n",
    "\n",
    "xPath_DB = '/home/mike/xTemp_data_infrastructure/_staging_funding_dataset/'\n",
    "xDB = xPath_DB  + 'grants_datasets.db'\n",
    "xDBCon = 'sqlite:///' + xDB\n"
   ]
  },
  {
   "cell_type": "code",
   "execution_count": 5,
   "id": "fa876d3a",
   "metadata": {},
   "outputs": [],
   "source": [
    "### Path for downloaded datasets \n",
    "xPath_downloaded_datasets = '/home/mike/xTemp_data_infrastructure/_staging_funding_dataset/__downloaded'\n",
    "xPath_dsets_EU = os.path.join(xPath_downloaded_datasets, '01_EU_FP/01_projects') "
   ]
  },
  {
   "cell_type": "markdown",
   "id": "d6624666",
   "metadata": {},
   "source": [
    "####  FP1 to FP6 are single excel files each  ### "
   ]
  },
  {
   "cell_type": "code",
   "execution_count": 6,
   "id": "b0b00737",
   "metadata": {},
   "outputs": [
    {
     "name": "stdout",
     "output_type": "stream",
     "text": [
      "saved: cordis_fp1projects\n",
      "saved: cordis_fp2projects\n",
      "saved: cordis_fp3projects\n",
      "saved: cordis_fp4projects\n",
      "saved: cordis_fp5projects\n",
      "saved: cordis_fp6projects\n",
      "saved: cordis_fp1organizations\n",
      "saved: cordis_fp2organizations\n",
      "saved: cordis_fp3organizations\n",
      "saved: cordis_fp4organizations\n",
      "saved: cordis_fp5organizations\n",
      "saved: cordis_fp6organizations\n",
      "OK\n"
     ]
    }
   ],
   "source": [
    "xFile_lst = ['cordis-fp1projects.xlsx', 'cordis-fp2projects.xlsx', \n",
    "             'cordis-fp3projects.xlsx', 'cordis-fp4projects.xlsx', \n",
    "             'cordis-fp5projects.xlsx', 'cordis-fp6projects.xlsx',\n",
    "             'cordis-fp1organizations.xlsx', 'cordis-fp2organizations.xlsx', \n",
    "             'cordis-fp3organizations.xlsx', 'cordis-fp4organizations.xlsx',             \n",
    "             'cordis-fp5organizations.xlsx', 'cordis-fp6organizations.xlsx'        \n",
    "            ]\n",
    "\n",
    "for xFile in xFile_lst:\n",
    "    xFile_name = os.path.join(xPath_dsets_EU , xFile)\n",
    "    \n",
    "    #name of the table in sqlite \n",
    "    xtab_name = xFile.replace('-', '_').replace('.xlsx', '')\n",
    "    #dataframe \n",
    "    df = pd.read_excel(xFile_name)\n",
    "    # change the names of the columns from Camelcas to under_score \n",
    "    xcols = [infl.underscore(x) for x in df.columns]\n",
    "    df.columns = xcols\n",
    "    \n",
    "    #Save \n",
    "    df.to_sql(name = xtab_name,  con = xDBCon,  if_exists =  'replace', index = False) \n",
    "    \n",
    "    print('saved:', xtab_name) #, '---records:', len(df))\n",
    "    \n",
    "\n",
    "print('OK')"
   ]
  },
  {
   "cell_type": "markdown",
   "id": "5749ba38",
   "metadata": {},
   "source": [
    "#### FP7 #### "
   ]
  },
  {
   "cell_type": "code",
   "execution_count": 16,
   "id": "a4bd8169",
   "metadata": {},
   "outputs": [
    {
     "name": "stdout",
     "output_type": "stream",
     "text": [
      "saved: cordis_fp7projects_organization ---records: 140008\n",
      "saved: cordis_fp7projects_legal_basis ---records: 25785\n",
      "saved: cordis_fp7projects_topics ---records: 26153\n",
      "saved: cordis_fp7projects_euro_sci_voc ---records: 68017\n",
      "saved: cordis_fp7projects_web_link ---records: 8160\n",
      "saved: cordis_fp7projects_web_item ---records: 11763\n",
      "saved: cordis_fp7projects_project ---records: 25785\n",
      "OK\n"
     ]
    }
   ],
   "source": [
    "xFile = 'cordis-fp7projects-xlsx.zip'\n",
    "\n",
    "xfile_zip = os.path.join(xPath_dsets_EU , xFile)\n",
    "\n",
    "with zipfile.ZipFile(xfile_zip) as zf:\n",
    "    xtabname_prefix = xfile_zip.split('/')[-1:][0].split('.')[0].replace('-', '_').replace('xlsx', '')\n",
    "    \n",
    "\n",
    "    for xfile in zf.filelist:\n",
    "        xfile_name = xfile.filename\n",
    "        \n",
    "        if xfile_name.endswith('.xlsx'):\n",
    "            #print(xfile_name)\n",
    "        \n",
    "        \n",
    "            xtab_name_suffix = xfile.filename.replace('/', '_').replace('.xlsx', '')\n",
    "            xtab_name = xtabname_prefix  + infl.underscore(xtab_name_suffix)\n",
    "            xtab_name = xtab_name.replace('_xlsx_', '_')\n",
    "        \n",
    "            with zf.open(xfile_name) as myZip:\n",
    "                #print (xtab_name)\n",
    "\n",
    "                df = pd.read_excel(myZip, engine=\"openpyxl\")#, nrows =5) \n",
    "                xcols = [infl.underscore(x) for x in df.columns]\n",
    "                df.columns = xcols\n",
    "                #save \n",
    "                df.to_sql(name = xtab_name,  con = xDBCon,  if_exists =  'replace', index = False) \n",
    "\n",
    "                print('saved:', xtab_name, '---records:', len(df))\n",
    "            \n",
    "            \n",
    "            \n",
    "            \n",
    "print('OK')\n",
    "\n"
   ]
  },
  {
   "cell_type": "markdown",
   "id": "27c52598",
   "metadata": {},
   "source": [
    "#### H2020  #### "
   ]
  },
  {
   "cell_type": "code",
   "execution_count": 17,
   "id": "9006387d",
   "metadata": {},
   "outputs": [
    {
     "name": "stdout",
     "output_type": "stream",
     "text": [
      "saved: cordis_h2020projects_project ---records: 35385\n",
      "saved: cordis_h2020projects_organization ---records: 177871\n",
      "saved: cordis_h2020projects_legal_basis ---records: 65791\n",
      "saved: cordis_h2020projects_topics ---records: 35385\n",
      "saved: cordis_h2020projects_euro_sci_voc ---records: 120041\n",
      "saved: cordis_h2020projects_web_link ---records: 178370\n",
      "saved: cordis_h2020projects_web_item ---records: 9\n",
      "OK\n"
     ]
    }
   ],
   "source": [
    "\n",
    "xFile = 'cordis-h2020projects-xlsx.zip'\n",
    "\n",
    "xfile_zip = os.path.join(xPath_dsets_EU , xFile)\n",
    "\n",
    "\n",
    "with zipfile.ZipFile(xfile_zip) as zf:\n",
    "    xtabname_prefix = xfile_zip.split('/')[-1:][0].split('.')[0].replace('-', '_').replace('xlsx', '')\n",
    "    \n",
    "\n",
    "    for xfile in zf.filelist:\n",
    "        xfile_name = xfile.filename\n",
    "        \n",
    "        if xfile_name.endswith('.xlsx'):\n",
    "            #print(xfile_name)\n",
    "        \n",
    "        \n",
    "            xtab_name_suffix = xfile.filename.replace('/', '_').replace('.xlsx', '')\n",
    "            xtab_name = xtabname_prefix  + infl.underscore(xtab_name_suffix)\n",
    "            xtab_name = xtab_name.replace('_xlsx_', '_')            \n",
    "        \n",
    "            with zf.open(xfile_name) as myZip:\n",
    "                #print (xtab_name)\n",
    "\n",
    "                df = pd.read_excel(myZip, engine=\"openpyxl\")#, nrows =5) \n",
    "                xcols = [infl.underscore(x) for x in df.columns]\n",
    "                df.columns = xcols\n",
    "                #save \n",
    "                df.to_sql(name = xtab_name,  con = xDBCon,  if_exists =  'replace', index = False) \n",
    "\n",
    "                print('saved:', xtab_name, '---records:', len(df))\n",
    "            \n",
    "            \n",
    "            \n",
    "            \n",
    "print('OK')"
   ]
  },
  {
   "cell_type": "markdown",
   "id": "b75ab0f0",
   "metadata": {},
   "source": [
    "#### Horizon Europe  #### "
   ]
  },
  {
   "cell_type": "code",
   "execution_count": 18,
   "id": "44da7756",
   "metadata": {},
   "outputs": [
    {
     "name": "stdout",
     "output_type": "stream",
     "text": [
      "saved: cordis_HORIZONprojects_project ---records: 8557\n",
      "saved: cordis_HORIZONprojects_organization ---records: 53422\n",
      "saved: cordis_HORIZONprojects_legal_basis ---records: 11671\n",
      "saved: cordis_HORIZONprojects_topics ---records: 8557\n",
      "saved: cordis_HORIZONprojects_euro_sci_voc ---records: 26779\n",
      "saved: cordis_HORIZONprojects_web_link ---records: 1387\n",
      "saved: cordis_HORIZONprojects_web_item ---records: 1\n",
      "OK\n"
     ]
    }
   ],
   "source": [
    "xFile = 'cordis-HORIZONprojects-xlsx.zip'\n",
    "\n",
    "xfile_zip = os.path.join(xPath_dsets_EU , xFile)\n",
    "\n",
    "with zipfile.ZipFile(xfile_zip) as zf:\n",
    "    xtabname_prefix = xfile_zip.split('/')[-1:][0].split('.')[0].replace('-', '_').replace('xlsx', '')\n",
    "    \n",
    "\n",
    "    for xfile in zf.filelist:\n",
    "        xfile_name = xfile.filename\n",
    "        \n",
    "        if xfile_name.endswith('.xlsx'):\n",
    "            #print(xfile_name)\n",
    "        \n",
    "        \n",
    "            xtab_name_suffix = xfile.filename.replace('/', '_').replace('.xlsx', '')\n",
    "            xtab_name = xtabname_prefix  + infl.underscore(xtab_name_suffix)\n",
    "            xtab_name = xtab_name.replace('_xlsx_', '_')  \n",
    "        \n",
    "            with zf.open(xfile_name) as myZip:\n",
    "                #print (xtab_name)\n",
    "\n",
    "                df = pd.read_excel(myZip, engine=\"openpyxl\")#, nrows =5) \n",
    "                xcols = [infl.underscore(x) for x in df.columns]\n",
    "                df.columns = xcols\n",
    "                #save \n",
    "                df.to_sql(name = xtab_name,  con = xDBCon,  if_exists =  'replace', index = False) \n",
    "\n",
    "                print('saved:', xtab_name, '---records:', len(df))\n",
    "            \n",
    "            \n",
    "            \n",
    "            \n",
    "print('OK')"
   ]
  },
  {
   "cell_type": "markdown",
   "id": "96c3e1d8",
   "metadata": {},
   "source": [
    "## Principal Inverstigators - ERC only "
   ]
  },
  {
   "cell_type": "code",
   "execution_count": 24,
   "id": "e4a28281",
   "metadata": {},
   "outputs": [
    {
     "name": "stdout",
     "output_type": "stream",
     "text": [
      "140362\n",
      "saved: cordis_fp7_persons ---records: 140362\n"
     ]
    }
   ],
   "source": [
    "xlst_res = []\n",
    "\n",
    "xFile = 'cordis-fp7projects-xml.zip'\n",
    "\n",
    "xfile_zip = os.path.join(xPath_dsets_EU , xFile)\n",
    "\n",
    "\n",
    "with zipfile.ZipFile(xfile_zip, 'r') as zip_ref:\n",
    "    for file_name in zip_ref.namelist():\n",
    "        if file_name.endswith('.xml'):\n",
    "            with zip_ref.open(file_name) as file:\n",
    "                xdata = file.read()\n",
    "                xdict = xmltodict.parse(xdata).get('project')\n",
    "                ## get project data \n",
    "                xproj_id = xdict.get('id') \n",
    "                xproj_rcn = xdict.get('rcn') \n",
    "                xproj_acronym = xdict.get('acronym')   \n",
    "                \n",
    "                xrels = xdict.get('relations')\n",
    "                if not xrels:\n",
    "                    continue                    \n",
    "                    \n",
    "                \n",
    "                xorgs = xdict.get('relations').get('associations').get('organization')\n",
    "                if isinstance(xorgs , dict):\n",
    "                    xorgs = [xorgs ]\n",
    "                    \n",
    "                if not xorgs:\n",
    "                    continue\n",
    "                    \n",
    "                \n",
    "                for xorg in xorgs:\n",
    "                    #get organisations data \n",
    "                    xorg_id =  xorg.get('id')\n",
    "                    xorg_rcn = xorg.get('rcn')\n",
    "                    \n",
    "                    if not xorg.get('relations'):\n",
    "                        continue \n",
    "                    xassociations = xorg.get('relations').get('associations')\n",
    "                    if not xassociations:\n",
    "                        continue\n",
    "                    \n",
    "\n",
    "                    # get person data \n",
    "                    xperss = xassociations.get('person')\n",
    "                    \n",
    "                    if not xperss:\n",
    "                        continue \n",
    "                    \n",
    "                                      \n",
    "                    if isinstance(xperss , dict):\n",
    "                        xperss = [xperss]\n",
    "                        \n",
    "\n",
    "                    for xpers in xperss:\n",
    "                        xpers_dict = {}\n",
    "                        xpers_dict['proj_id'] = xproj_id\n",
    "                        xpers_dict['proj_rcn'] = xproj_rcn \n",
    "                        xpers_dict['proj_acronym'] = xproj_acronym\n",
    "\n",
    "                        xpers_dict['pers_type'] = xpers.get('@type')\n",
    "                        xpers_dict['pi_rcn'] = xpers.get('rcn')                            \n",
    "                        xpers_dict['pi_title'] = xpers.get('title')\n",
    "                        xpers_dict['pi_name_first'] = xpers.get('firstNames')\n",
    "                        xpers_dict['pi_name_last'] = xpers.get('lastName')   \n",
    "\n",
    "                        xpers_dict['org_id'] = xorg_id\n",
    "                        xpers_dict['org_rcn'] = xorg_rcn   \n",
    "\n",
    "\n",
    "                        #print(xpers_dict) \n",
    "                        xlst_res.append(xpers_dict)\n",
    "                \n",
    "                \n",
    "t1 = pd.DataFrame(xlst_res)\n",
    "print(len(t1))\n",
    "\n",
    "xtab_name = 'cordis_fp7_persons'\n",
    "t1.to_sql(name = xtab_name,  con = xDBCon,  if_exists =  'replace', index = False) \n",
    "print('saved:', xtab_name, '---records:', len(t1))\n",
    "\n",
    "#print('OK')\n"
   ]
  },
  {
   "cell_type": "code",
   "execution_count": 23,
   "id": "735d634b",
   "metadata": {},
   "outputs": [
    {
     "name": "stdout",
     "output_type": "stream",
     "text": [
      "saved: cordis_h2020_persons ---records: 8043\n"
     ]
    }
   ],
   "source": [
    "## H2020 \n",
    "\n",
    "xFile = os.path.join(xPath_dsets_EU , 'cordis-h2020-erc-pi.xlsx')\n",
    "\n",
    "df = pd.read_excel(xFile)\n",
    "\n",
    "xcols = [infl.underscore(x) for x in df.columns]\n",
    "df.columns = xcols\n",
    "\n",
    "\n",
    "xtab_name = 'cordis_h2020_persons'\n",
    "df.to_sql(name = xtab_name,  con = xDBCon,  if_exists =  'replace', index = False) \n",
    "print('saved:', xtab_name, '---records:', len(df))\n",
    "\n",
    "\n"
   ]
  },
  {
   "cell_type": "markdown",
   "id": "84d4cfaa",
   "metadata": {},
   "source": [
    "## Results - publications "
   ]
  },
  {
   "cell_type": "code",
   "execution_count": 3,
   "id": "0c1faa53",
   "metadata": {},
   "outputs": [],
   "source": [
    "import os \n",
    "import pandas as pd \n",
    "\n",
    "\n",
    "xPath = '/media/mike/DATA4T/_data_repository/__others/fp_data/__publications/__corda_20231003/'\n",
    "\n",
    "xl_fp7 = xPath + 'FP7PC_DM_PROJ_PUBLICATIONS.xlsx'\n",
    "xl_h2020_lst = [xPath + 'cordis-h2020projectPublications-xlsx/xlsx/' + x \n",
    "                for x in os.listdir(xPath + 'cordis-h2020projectPublications-xlsx/xlsx/')]\n",
    "xl_he = xPath + 'cordis-HORIZONprojectPublications-xlsx/xlsx/projectPublications.xlsx'\n",
    "\n"
   ]
  },
  {
   "cell_type": "code",
   "execution_count": 4,
   "id": "e0f1f753",
   "metadata": {},
   "outputs": [],
   "source": [
    "xPath_DB = '/home/mike/xTemp_data_infrastructure/_staging_funding_dataset/'\n",
    "xDB = xPath_DB  + 'grants_datasets.db'\n",
    "xDBCon = 'sqlite:///' + xDB"
   ]
  },
  {
   "cell_type": "code",
   "execution_count": 5,
   "id": "7165c153",
   "metadata": {},
   "outputs": [
    {
     "name": "stdout",
     "output_type": "stream",
     "text": [
      "saved FP7: 305549\n",
      "OK\n"
     ]
    }
   ],
   "source": [
    "# FP7 \n",
    "dset_fp7 = pd.read_excel(xl_fp7 )\n",
    "dset_fp7.columns = [x.lower() for x in dset_fp7.columns]\n",
    "\n",
    "len(dset_fp7)\n",
    "\n",
    "\n",
    "dset_fp7.to_sql(name = 'cordis_publications_fp7',con = xDBCon , if_exists = 'replace', index = False) \n",
    "\n",
    "print('saved FP7:',  len(dset_fp7))\n",
    "    \n",
    "print('OK')\n"
   ]
  },
  {
   "cell_type": "code",
   "execution_count": 7,
   "id": "a2531d6f",
   "metadata": {},
   "outputs": [
    {
     "name": "stdout",
     "output_type": "stream",
     "text": [
      "saved : cordis_publications_h2020_projectPublications_4 55001\n",
      "saved : cordis_publications_h2020_projectPublications_5 55001\n",
      "saved : cordis_publications_h2020_projectPublications_7 25704\n",
      "saved : cordis_publications_h2020_projectPublications_6 55001\n",
      "saved : cordis_publications_h2020_projectPublications_2 55001\n",
      "saved : cordis_publications_h2020_projectPublications 55001\n",
      "saved : cordis_publications_h2020_projectPublications_3 55001\n",
      "OK\n"
     ]
    }
   ],
   "source": [
    "#H 2020 \n",
    "for xFile in xl_h2020_lst:\n",
    "    xtab_name = 'cordis_publications_h2020_' + xFile.split('/')[-1:][0].replace('.xlsx', '')\n",
    "    #print(xtab_name)\n",
    "    \n",
    "    dset_h2020 = pd.read_excel(xFile)\n",
    "    \n",
    "    #convert every column to strings\n",
    "    dset_h2020 = dset_h2020.astype(str)    \n",
    "    \n",
    "    \n",
    "    \n",
    "    dset_h2020.columns = [x.lower() for x in dset_h2020.columns]\n",
    "    \n",
    "    \n",
    "    dset_h2020.to_sql(name = xtab_name,con = xDBCon , if_exists = 'replace', index = False)     \n",
    "    \n",
    "    \n",
    "    print('saved :', xtab_name, len(dset_h2020))\n",
    "    \n",
    "\n",
    "print('OK')\n",
    "    "
   ]
  },
  {
   "cell_type": "code",
   "execution_count": null,
   "id": "ae9b8039",
   "metadata": {},
   "outputs": [],
   "source": []
  }
 ],
 "metadata": {
  "kernelspec": {
   "display_name": "Python 3 (ipykernel)",
   "language": "python",
   "name": "python3"
  },
  "language_info": {
   "codemirror_mode": {
    "name": "ipython",
    "version": 3
   },
   "file_extension": ".py",
   "mimetype": "text/x-python",
   "name": "python",
   "nbconvert_exporter": "python",
   "pygments_lexer": "ipython3",
   "version": "3.10.9"
  }
 },
 "nbformat": 4,
 "nbformat_minor": 5
}
