{
 "cells": [
  {
   "cell_type": "markdown",
   "id": "bd8f8d6a",
   "metadata": {},
   "source": [
    "## ANR "
   ]
  },
  {
   "cell_type": "markdown",
   "id": "c6d38e75",
   "metadata": {},
   "source": [
    "##  source: \n",
    "\n",
    "\n",
    "https://anr.fr/en/funded-projects-and-impact/datasets-on-funded-projects/\n"
   ]
  },
  {
   "cell_type": "markdown",
   "id": "77311f85",
   "metadata": {},
   "source": [
    "### STEP 2 : save into a database "
   ]
  },
  {
   "cell_type": "code",
   "execution_count": 1,
   "id": "391e0f47",
   "metadata": {},
   "outputs": [],
   "source": [
    "import os \n",
    "import inflection as infl  ## to deal with fields names which are camel case \n",
    "import pandas as pd \n",
    "\n",
    "import zipfile\n",
    "import xmltodict"
   ]
  },
  {
   "cell_type": "code",
   "execution_count": 2,
   "id": "a517c6d5",
   "metadata": {},
   "outputs": [],
   "source": [
    "import warnings\n",
    "warnings.simplefilter(\"ignore\")"
   ]
  },
  {
   "cell_type": "code",
   "execution_count": 3,
   "id": "4de8b7d9",
   "metadata": {},
   "outputs": [],
   "source": [
    "## Resulting database - we use sqlite for easy replication \n",
    "\n",
    "xPath_DB = '/home/mike/xTemp_data_infrastructure/_staging_funding_dataset/'\n",
    "xDB = xPath_DB  + 'grants_datasets.db'\n",
    "xDBCon = 'sqlite:///' + xDB\n"
   ]
  },
  {
   "cell_type": "code",
   "execution_count": 4,
   "id": "b619605e",
   "metadata": {},
   "outputs": [
    {
     "name": "stdout",
     "output_type": "stream",
     "text": [
      "saved: anr_projects_2010 20756\n",
      "saved: anr_projects_2005_2009 7214\n",
      "saved: anr_project_partners_2010 66285\n",
      "saved: anr_project_partners_2005_2009 21358\n",
      "OK\n"
     ]
    }
   ],
   "source": [
    "xFld = '/media/mike/DATA4T/_data_repository/__others/__funding_data/2000_ANR/'\n",
    "\n",
    "for xfile in [xFld + x for x in os.listdir(xFld)]:\n",
    "    xtab_name = xfile.split('/')[-1:][0].split('.')[0]\n",
    "    #print(xtab_name)\n",
    "    t1 = pd.read_excel(xfile)\n",
    "    xlst_columns = [x.replace('Projet.', '').replace('.', '_').lower()  for x in list(t1.columns)]\n",
    "    t1.columns = xlst_columns \n",
    "    #print(xlst_columns )\n",
    "    #print('---')\n",
    "    \n",
    "    t1.to_sql(name = xtab_name,  con = xDBCon,  if_exists =  'replace', index = False) \n",
    "    \n",
    "    print('saved:', xtab_name, len(t1))\n",
    "    \n",
    "print('OK')\n",
    "    \n",
    "    "
   ]
  },
  {
   "cell_type": "markdown",
   "id": "b75ab0f0",
   "metadata": {},
   "source": [
    "#### Horizon Europe  #### "
   ]
  },
  {
   "cell_type": "code",
   "execution_count": null,
   "id": "770edc7c",
   "metadata": {},
   "outputs": [],
   "source": []
  }
 ],
 "metadata": {
  "kernelspec": {
   "display_name": "Python 3 (ipykernel)",
   "language": "python",
   "name": "python3"
  },
  "language_info": {
   "codemirror_mode": {
    "name": "ipython",
    "version": 3
   },
   "file_extension": ".py",
   "mimetype": "text/x-python",
   "name": "python",
   "nbconvert_exporter": "python",
   "pygments_lexer": "ipython3",
   "version": "3.10.9"
  }
 },
 "nbformat": 4,
 "nbformat_minor": 5
}
