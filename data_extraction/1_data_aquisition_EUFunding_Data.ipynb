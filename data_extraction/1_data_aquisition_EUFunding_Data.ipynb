{
 "cells": [
  {
   "cell_type": "markdown",
   "id": "f0ad26ee",
   "metadata": {},
   "source": [
    "## EU Funding Data "
   ]
  },
  {
   "cell_type": "markdown",
   "id": "7050cdd2",
   "metadata": {},
   "source": [
    "## STEP 1 : download the datasets "
   ]
  },
  {
   "cell_type": "markdown",
   "id": "cdcaf1e0",
   "metadata": {},
   "source": [
    "\n",
    "#### project data #### \n",
    "\n",
    "wget https://cordis.europa.eu/data/FP1/cordis-fp1projects.xlsx\n",
    "\n",
    "wget https://cordis.europa.eu/data/FP1/cordis-fp1organizations.xlsx\n",
    "\n",
    "wget https://cordis.europa.eu/data/FP2/cordis-fp2projects.xlsx\n",
    "\n",
    "wget https://cordis.europa.eu/data/FP2/cordis-fp2organizations.xlsx\n",
    "\n",
    "wget https://cordis.europa.eu/data/FP3/cordis-fp3projects.xlsx\n",
    "\n",
    "wget https://cordis.europa.eu/data/FP3/cordis-fp3organizations.xlsx\n",
    "\n",
    "wget https://cordis.europa.eu/data/FP4/cordis-fp4projects.xlsx\n",
    "\n",
    "wget https://cordis.europa.eu/data/FP4/cordis-fp4organizations.xlsx\n",
    "\n",
    "wget https://cordis.europa.eu/data/FP5/cordis-fp5projects.xlsx\n",
    "\n",
    "wget https://cordis.europa.eu/data/FP5/cordis-fp5organizations.xlsx\n",
    "\n",
    "wget https://cordis.europa.eu/data/FP6/cordis-fp6projects.xlsx\n",
    "\n",
    "wget https://cordis.europa.eu/data/FP6/cordis-fp6organizations.xlsx\n",
    "\n",
    "wget https://cordis.europa.eu/data/cordis-fp7projects-xlsx.zip\n",
    "\n",
    "wget https://cordis.europa.eu/data/cordis-h2020projects-xlsx.zip\n",
    "\n",
    "wget https://cordis.europa.eu/data/cordis-HORIZONprojects-xlsx.zip\n",
    "\n",
    "\n",
    "#### programmes####\n",
    "FP6 and FP7 as csv\n",
    "\n",
    "wget https://cordis.europa.eu/data/reference/cordisref-FP6programmes.csv\n",
    "\n",
    "wget https://cordis.europa.eu/data/reference/cordisref-FP7programmes.csv\n",
    "\n",
    "wget https://cordis.europa.eu/data/reference/cordisref-H2020programmes-xlsx.zip\n",
    "\n",
    "wget https://cordis.europa.eu/data/reference/cordisref-HORIZONprogrammes-xlsx.zip\n",
    "\n",
    "\n",
    "#### PI (ERC ONLY)### \n",
    "\n",
    "N.B:\n",
    "\n",
    "FP7 no longer provided as stand-alone file there : parse the projects files in XML\n",
    "\n",
    "wget https://cordis.europa.eu/data/cordis-fp7projects-xml.zip\n",
    "\n",
    "wget https://cordis.europa.eu/data/cordis-h2020-erc-pi.xlsx\n",
    "\n",
    "HE :\n",
    "\n",
    "ERC PI file not yet provided\n",
    "\n",
    "\n",
    "#### get other reference data#### \n",
    "\n",
    "wget https://cordis.europa.eu/data/reference/cordisref-countries.csv\n"
   ]
  },
  {
   "cell_type": "markdown",
   "id": "b2991687",
   "metadata": {},
   "source": [
    "### STEP 2 : save into a database "
   ]
  },
  {
   "cell_type": "code",
   "execution_count": 7,
   "id": "f5942901",
   "metadata": {},
   "outputs": [],
   "source": [
    "import os \n",
    "import inflection as infl  ## to deal with fields names which are camel case \n",
    "import pandas as pd \n",
    "\n",
    "import zipfile\n",
    "import xmltodict"
   ]
  },
  {
   "cell_type": "code",
   "execution_count": 15,
   "id": "847ebd8a",
   "metadata": {},
   "outputs": [],
   "source": [
    "import warnings\n",
    "warnings.simplefilter(\"ignore\")"
   ]
  },
  {
   "cell_type": "code",
   "execution_count": 2,
   "id": "61d8fe51",
   "metadata": {},
   "outputs": [],
   "source": [
    "## Resulting database - we use sqlite for easy replication \n",
    "\n",
    "xPath_DB = '/home/mike/xTemp_data_infrastructure/_staging_funding_dataset/'\n",
    "xDB = xPath_DB  + 'grants_datasets.db'\n",
    "xDBCon = 'sqlite:///' + xDB\n"
   ]
  },
  {
   "cell_type": "code",
   "execution_count": 5,
   "id": "a47175ba",
   "metadata": {},
   "outputs": [],
   "source": [
    "### Path for downloaded datasets \n",
    "xPath_downloaded_datasets = '/home/mike/xTemp_data_infrastructure/_staging_funding_dataset/__downloaded'\n",
    "xPath_dsets_EU = os.path.join(xPath_downloaded_datasets, '01_EU_FP/01_projects') "
   ]
  },
  {
   "cell_type": "markdown",
   "id": "6d55e7e2",
   "metadata": {},
   "source": [
    "####  FP1 to FP6 are single excel files each  ### "
   ]
  },
  {
   "cell_type": "code",
   "execution_count": 6,
   "id": "9505a648",
   "metadata": {},
   "outputs": [
    {
     "name": "stdout",
     "output_type": "stream",
     "text": [
      "saved: cordis_fp1projects\n",
      "saved: cordis_fp2projects\n",
      "saved: cordis_fp3projects\n",
      "saved: cordis_fp4projects\n",
      "saved: cordis_fp5projects\n",
      "saved: cordis_fp6projects\n",
      "saved: cordis_fp1organizations\n",
      "saved: cordis_fp2organizations\n",
      "saved: cordis_fp3organizations\n",
      "saved: cordis_fp4organizations\n",
      "saved: cordis_fp5organizations\n",
      "saved: cordis_fp6organizations\n",
      "OK\n"
     ]
    }
   ],
   "source": [
    "xFile_lst = ['cordis-fp1projects.xlsx', 'cordis-fp2projects.xlsx', \n",
    "             'cordis-fp3projects.xlsx', 'cordis-fp4projects.xlsx', \n",
    "             'cordis-fp5projects.xlsx', 'cordis-fp6projects.xlsx',\n",
    "             'cordis-fp1organizations.xlsx', 'cordis-fp2organizations.xlsx', \n",
    "             'cordis-fp3organizations.xlsx', 'cordis-fp4organizations.xlsx',             \n",
    "             'cordis-fp5organizations.xlsx', 'cordis-fp6organizations.xlsx'        \n",
    "            ]\n",
    "\n",
    "for xFile in xFile_lst:\n",
    "    xFile_name = os.path.join(xPath_dsets_EU , xFile)\n",
    "    \n",
    "    #name of the table in sqlite \n",
    "    xtab_name = xFile.replace('-', '_').replace('.xlsx', '')\n",
    "    #dataframe \n",
    "    df = pd.read_excel(xFile_name)\n",
    "    # change the names of the columns from Camelcas to under_score \n",
    "    xcols = [infl.underscore(x) for x in df.columns]\n",
    "    df.columns = xcols\n",
    "    \n",
    "    #Save \n",
    "    df.to_sql(name = xtab_name,  con = xDBCon,  if_exists =  'replace', index = False) \n",
    "    \n",
    "    print('saved:', xtab_name) #, '---records:', len(df))\n",
    "    \n",
    "\n",
    "print('OK')"
   ]
  },
  {
   "cell_type": "markdown",
   "id": "2c87c40b",
   "metadata": {},
   "source": [
    "#### FP7 #### "
   ]
  },
  {
   "cell_type": "code",
   "execution_count": 16,
   "id": "c5fb458e",
   "metadata": {},
   "outputs": [
    {
     "name": "stdout",
     "output_type": "stream",
     "text": [
      "saved: cordis_fp7projects_organization ---records: 140008\n",
      "saved: cordis_fp7projects_legal_basis ---records: 25785\n",
      "saved: cordis_fp7projects_topics ---records: 26153\n",
      "saved: cordis_fp7projects_euro_sci_voc ---records: 68017\n",
      "saved: cordis_fp7projects_web_link ---records: 8160\n",
      "saved: cordis_fp7projects_web_item ---records: 11763\n",
      "saved: cordis_fp7projects_project ---records: 25785\n",
      "OK\n"
     ]
    }
   ],
   "source": [
    "xFile = 'cordis-fp7projects-xlsx.zip'\n",
    "\n",
    "xfile_zip = os.path.join(xPath_dsets_EU , xFile)\n",
    "\n",
    "with zipfile.ZipFile(xfile_zip) as zf:\n",
    "    xtabname_prefix = xfile_zip.split('/')[-1:][0].split('.')[0].replace('-', '_').replace('xlsx', '')\n",
    "    \n",
    "\n",
    "    for xfile in zf.filelist:\n",
    "        xfile_name = xfile.filename\n",
    "        \n",
    "        if xfile_name.endswith('.xlsx'):\n",
    "            #print(xfile_name)\n",
    "        \n",
    "        \n",
    "            xtab_name_suffix = xfile.filename.replace('/', '_').replace('.xlsx', '')\n",
    "            xtab_name = xtabname_prefix  + infl.underscore(xtab_name_suffix)\n",
    "            xtab_name = xtab_name.replace('_xlsx_', '_')\n",
    "        \n",
    "            with zf.open(xfile_name) as myZip:\n",
    "                #print (xtab_name)\n",
    "\n",
    "                df = pd.read_excel(myZip, engine=\"openpyxl\")#, nrows =5) \n",
    "                xcols = [infl.underscore(x) for x in df.columns]\n",
    "                df.columns = xcols\n",
    "                #save \n",
    "                df.to_sql(name = xtab_name,  con = xDBCon,  if_exists =  'replace', index = False) \n",
    "\n",
    "                print('saved:', xtab_name, '---records:', len(df))\n",
    "            \n",
    "            \n",
    "            \n",
    "            \n",
    "print('OK')\n",
    "\n"
   ]
  },
  {
   "cell_type": "markdown",
   "id": "a577d595",
   "metadata": {},
   "source": [
    "#### H2020  #### "
   ]
  },
  {
   "cell_type": "code",
   "execution_count": 17,
   "id": "b0498456",
   "metadata": {},
   "outputs": [
    {
     "name": "stdout",
     "output_type": "stream",
     "text": [
      "saved: cordis_h2020projects_project ---records: 35385\n",
      "saved: cordis_h2020projects_organization ---records: 177871\n",
      "saved: cordis_h2020projects_legal_basis ---records: 65791\n",
      "saved: cordis_h2020projects_topics ---records: 35385\n",
      "saved: cordis_h2020projects_euro_sci_voc ---records: 120041\n",
      "saved: cordis_h2020projects_web_link ---records: 178370\n",
      "saved: cordis_h2020projects_web_item ---records: 9\n",
      "OK\n"
     ]
    }
   ],
   "source": [
    "\n",
    "xFile = 'cordis-h2020projects-xlsx.zip'\n",
    "\n",
    "xfile_zip = os.path.join(xPath_dsets_EU , xFile)\n",
    "\n",
    "\n",
    "with zipfile.ZipFile(xfile_zip) as zf:\n",
    "    xtabname_prefix = xfile_zip.split('/')[-1:][0].split('.')[0].replace('-', '_').replace('xlsx', '')\n",
    "    \n",
    "\n",
    "    for xfile in zf.filelist:\n",
    "        xfile_name = xfile.filename\n",
    "        \n",
    "        if xfile_name.endswith('.xlsx'):\n",
    "            #print(xfile_name)\n",
    "        \n",
    "        \n",
    "            xtab_name_suffix = xfile.filename.replace('/', '_').replace('.xlsx', '')\n",
    "            xtab_name = xtabname_prefix  + infl.underscore(xtab_name_suffix)\n",
    "            xtab_name = xtab_name.replace('_xlsx_', '_')            \n",
    "        \n",
    "            with zf.open(xfile_name) as myZip:\n",
    "                #print (xtab_name)\n",
    "\n",
    "                df = pd.read_excel(myZip, engine=\"openpyxl\")#, nrows =5) \n",
    "                xcols = [infl.underscore(x) for x in df.columns]\n",
    "                df.columns = xcols\n",
    "                #save \n",
    "                df.to_sql(name = xtab_name,  con = xDBCon,  if_exists =  'replace', index = False) \n",
    "\n",
    "                print('saved:', xtab_name, '---records:', len(df))\n",
    "            \n",
    "            \n",
    "            \n",
    "            \n",
    "print('OK')"
   ]
  },
  {
   "cell_type": "markdown",
   "id": "f68a445a",
   "metadata": {},
   "source": [
    "#### Horizon Europe  #### "
   ]
  },
  {
   "cell_type": "code",
   "execution_count": 18,
   "id": "0481a2bd",
   "metadata": {},
   "outputs": [
    {
     "name": "stdout",
     "output_type": "stream",
     "text": [
      "saved: cordis_HORIZONprojects_project ---records: 8557\n",
      "saved: cordis_HORIZONprojects_organization ---records: 53422\n",
      "saved: cordis_HORIZONprojects_legal_basis ---records: 11671\n",
      "saved: cordis_HORIZONprojects_topics ---records: 8557\n",
      "saved: cordis_HORIZONprojects_euro_sci_voc ---records: 26779\n",
      "saved: cordis_HORIZONprojects_web_link ---records: 1387\n",
      "saved: cordis_HORIZONprojects_web_item ---records: 1\n",
      "OK\n"
     ]
    }
   ],
   "source": [
    "xFile = 'cordis-HORIZONprojects-xlsx.zip'\n",
    "\n",
    "xfile_zip = os.path.join(xPath_dsets_EU , xFile)\n",
    "\n",
    "with zipfile.ZipFile(xfile_zip) as zf:\n",
    "    xtabname_prefix = xfile_zip.split('/')[-1:][0].split('.')[0].replace('-', '_').replace('xlsx', '')\n",
    "    \n",
    "\n",
    "    for xfile in zf.filelist:\n",
    "        xfile_name = xfile.filename\n",
    "        \n",
    "        if xfile_name.endswith('.xlsx'):\n",
    "            #print(xfile_name)\n",
    "        \n",
    "        \n",
    "            xtab_name_suffix = xfile.filename.replace('/', '_').replace('.xlsx', '')\n",
    "            xtab_name = xtabname_prefix  + infl.underscore(xtab_name_suffix)\n",
    "            xtab_name = xtab_name.replace('_xlsx_', '_')  \n",
    "        \n",
    "            with zf.open(xfile_name) as myZip:\n",
    "                #print (xtab_name)\n",
    "\n",
    "                df = pd.read_excel(myZip, engine=\"openpyxl\")#, nrows =5) \n",
    "                xcols = [infl.underscore(x) for x in df.columns]\n",
    "                df.columns = xcols\n",
    "                #save \n",
    "                df.to_sql(name = xtab_name,  con = xDBCon,  if_exists =  'replace', index = False) \n",
    "\n",
    "                print('saved:', xtab_name, '---records:', len(df))\n",
    "            \n",
    "            \n",
    "            \n",
    "            \n",
    "print('OK')"
   ]
  },
  {
   "cell_type": "code",
   "execution_count": null,
   "id": "75405107",
   "metadata": {},
   "outputs": [],
   "source": []
  }
 ],
 "metadata": {
  "kernelspec": {
   "display_name": "Python 3 (ipykernel)",
   "language": "python",
   "name": "python3"
  },
  "language_info": {
   "codemirror_mode": {
    "name": "ipython",
    "version": 3
   },
   "file_extension": ".py",
   "mimetype": "text/x-python",
   "name": "python",
   "nbconvert_exporter": "python",
   "pygments_lexer": "ipython3",
   "version": "3.10.9"
  }
 },
 "nbformat": 4,
 "nbformat_minor": 5
}
