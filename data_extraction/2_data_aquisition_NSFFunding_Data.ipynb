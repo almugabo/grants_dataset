{
 "cells": [
  {
   "cell_type": "markdown",
   "id": "4eb6af3f",
   "metadata": {},
   "source": [
    "## Data acquisition - NSF funding data "
   ]
  },
  {
   "cell_type": "markdown",
   "id": "b9b23696",
   "metadata": {},
   "source": [
    "## Step 1 : download files "
   ]
  },
  {
   "cell_type": "code",
   "execution_count": 7,
   "id": "6c275778",
   "metadata": {},
   "outputs": [],
   "source": [
    "import requests\n",
    "import datetime\n",
    "import os \n",
    "import time \n",
    "\n",
    "\n",
    "def download_file(x_url, x_filename_local):\n",
    "    ''' download files,\n",
    "    e.g. zip files of XML\n",
    "\n",
    "    TO DO : add proxy options\n",
    "    '''\n",
    "    # NOTE the stream=True parameter\n",
    "    r = requests.get(x_url, stream=True)\n",
    "    with open(x_filename_local, 'wb') as f:\n",
    "        for chunk in r.iter_content(chunk_size=1024):\n",
    "            if chunk:  # filter out keep-alive new chunks\n",
    "                f.write(chunk)\n",
    "                f.flush()\n",
    "    # return x_filename_local\n"
   ]
  },
  {
   "cell_type": "code",
   "execution_count": null,
   "id": "37277b13",
   "metadata": {},
   "outputs": [],
   "source": []
  },
  {
   "cell_type": "code",
   "execution_count": 8,
   "id": "10535c26",
   "metadata": {},
   "outputs": [
    {
     "name": "stdout",
     "output_type": "stream",
     "text": [
      "all done\n"
     ]
    }
   ],
   "source": [
    "# xUrl Paths \n",
    "xUrl_Path = 'https://www.nsf.gov/awardsearch/download?DownloadFileName='\n",
    "\n",
    "# Destionation folder \n",
    "xFld_Dest = '/home/mike/xTemp_data_infrastructure/_staging_funding_dataset/__downloaded/02_NSF'\n",
    "\n",
    "\n",
    "for x_year in [str(x) for x in range(2007, 2023)]:\n",
    "    x_UrlFile = xUrl_Path  + x_year + '&All=true'\n",
    "    #file_name \n",
    "    xfile_name = 'NSF_' + x_year + '.zip'\n",
    "    x_DestFileName =  os.path.join(xFld_Dest, xfile_name)\n",
    "    \n",
    "    time.sleep(1)\n",
    "    try:\n",
    "        download_file(x_UrlFile,  x_DestFileName )\n",
    "        #pass \n",
    "        \n",
    "    except:\n",
    "        print ('!!! error in:', x_year)\n",
    "\n",
    "print ('all done')\n"
   ]
  },
  {
   "cell_type": "code",
   "execution_count": null,
   "id": "6f3f29f5",
   "metadata": {},
   "outputs": [],
   "source": []
  }
 ],
 "metadata": {
  "kernelspec": {
   "display_name": "Python 3 (ipykernel)",
   "language": "python",
   "name": "python3"
  },
  "language_info": {
   "codemirror_mode": {
    "name": "ipython",
    "version": 3
   },
   "file_extension": ".py",
   "mimetype": "text/x-python",
   "name": "python",
   "nbconvert_exporter": "python",
   "pygments_lexer": "ipython3",
   "version": "3.10.9"
  }
 },
 "nbformat": 4,
 "nbformat_minor": 5
}
